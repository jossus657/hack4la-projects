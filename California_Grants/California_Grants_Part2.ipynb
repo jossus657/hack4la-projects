{
 "cells": [
  {
   "cell_type": "markdown",
   "id": "13be5a51-3b46-4ceb-9300-b65eb70a1e48",
   "metadata": {},
   "source": [
    "# California Grants Analysis: 2nd Notebook"
   ]
  },
  {
   "cell_type": "markdown",
   "id": "a6f3a8a0-3e78-4b05-b141-41dae337a3f0",
   "metadata": {},
   "source": [
    "### Joshua Susanto 8/18/2022 "
   ]
  },
  {
   "cell_type": "markdown",
   "id": "13bc6911-a5e9-4041-bf6d-5a228fc2831f",
   "metadata": {},
   "source": [
    "**This notebook will further explore the California grants dataset. Part 1 includes:**\n",
    " - cleaning the dataset\n",
    " - implementation of numeric variables\n",
    " - initial EDA of numeric variables\n",
    " - analysis on grant agencies and ongoing status of grants\n",
    " - function to table unique categories for all grants\n",
    " \n",
    "**Goals of this notebook include:**\n",
    "- exploring which agency gives the most money per grant\n",
    "- implement binary columns for each unique category per entry\n",
    "- keyword analysis of the grants' descriptions \n",
    "- exploring the different general topic per subdivision of keywords"
   ]
  }
 ],
 "metadata": {
  "kernelspec": {
   "display_name": "Python 3 (ipykernel)",
   "language": "python",
   "name": "python3"
  },
  "language_info": {
   "codemirror_mode": {
    "name": "ipython",
    "version": 3
   },
   "file_extension": ".py",
   "mimetype": "text/x-python",
   "name": "python",
   "nbconvert_exporter": "python",
   "pygments_lexer": "ipython3",
   "version": "3.9.12"
  }
 },
 "nbformat": 4,
 "nbformat_minor": 5
}
