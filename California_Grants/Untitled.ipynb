{
 "cells": [
  {
   "cell_type": "code",
   "execution_count": 3,
   "id": "a72e60b5-597c-4eb9-abf8-f27b755d108d",
   "metadata": {},
   "outputs": [
    {
     "ename": "IndexError",
     "evalue": "list index out of range",
     "output_type": "error",
     "traceback": [
      "\u001b[1;31m---------------------------------------------------------------------------\u001b[0m",
      "\u001b[1;31mIndexError\u001b[0m                                Traceback (most recent call last)",
      "Input \u001b[1;32mIn [3]\u001b[0m, in \u001b[0;36m<cell line: 11>\u001b[1;34m()\u001b[0m\n\u001b[0;32m      9\u001b[0m html \u001b[38;5;241m=\u001b[39m urlopen(\u001b[38;5;124m'\u001b[39m\u001b[38;5;124mhttps://www.basketball-reference.com/players/j/jordami01.html\u001b[39m\u001b[38;5;124m'\u001b[39m)\n\u001b[0;32m     10\u001b[0m bsobj \u001b[38;5;241m=\u001b[39m soup(html\u001b[38;5;241m.\u001b[39mread())\n\u001b[1;32m---> 11\u001b[0m tbody \u001b[38;5;241m=\u001b[39m \u001b[43mbsobj\u001b[49m\u001b[43m(\u001b[49m\u001b[38;5;124;43m'\u001b[39;49m\u001b[38;5;124;43mtable\u001b[39;49m\u001b[38;5;124;43m'\u001b[39;49m\u001b[43m,\u001b[49m\u001b[43m{\u001b[49m\u001b[38;5;124;43m'\u001b[39;49m\u001b[38;5;124;43mclass\u001b[39;49m\u001b[38;5;124;43m'\u001b[39;49m\u001b[43m:\u001b[49m\u001b[38;5;124;43m'\u001b[39;49m\u001b[38;5;124;43mwikitableplainrowheaders sortable\u001b[39;49m\u001b[38;5;124;43m'\u001b[39;49m\u001b[43m}\u001b[49m\u001b[43m)\u001b[49m\u001b[43m[\u001b[49m\u001b[38;5;241;43m0\u001b[39;49m\u001b[43m]\u001b[49m\u001b[38;5;241m.\u001b[39mfindAll(\u001b[38;5;124m'\u001b[39m\u001b[38;5;124mtr\u001b[39m\u001b[38;5;124m'\u001b[39m)\n\u001b[0;32m     12\u001b[0m xl \u001b[38;5;241m=\u001b[39m []\n\u001b[0;32m     13\u001b[0m \u001b[38;5;28;01mfor\u001b[39;00m row \u001b[38;5;129;01min\u001b[39;00m tbody:\n",
      "\u001b[1;31mIndexError\u001b[0m: list index out of range"
     ]
    }
   ],
   "source": [
    "import bs4\n",
    "import urllib.request\n",
    "from urllib.request import urlopen\n",
    "from bs4 import BeautifulSoup as soup\n",
    "import csv\n",
    "filename = 'music.csv'\n",
    "f = open(filename,'w',newline = '')\n",
    "music = csv.writer(f)\n",
    "html = urlopen('https://www.basketball-reference.com/players/j/jordami01.html')\n",
    "bsobj = soup(html.read())\n",
    "tbody = bsobj('table',{'class':'wikitableplainrowheaders sortable'})[0].findAll('tr')\n",
    "xl = []\n",
    "for row in tbody:\n",
    "    cols = row.findChildren(recursive = False)\n",
    "    cols = [element.text.strip() for element in cols]\n",
    "    music.writerow(cols) #Writing to CSV\n",
    "    xl.append(cols)\n",
    "import pandas as pd\n",
    "df = pd.DataFrame(data = xl[1:],columns = xl[0])\n",
    "df.to_excel('world_music.xlsx', index=False,header = False)#Writing to Excel file"
   ]
  }
 ],
 "metadata": {
  "kernelspec": {
   "display_name": "Python 3 (ipykernel)",
   "language": "python",
   "name": "python3"
  },
  "language_info": {
   "codemirror_mode": {
    "name": "ipython",
    "version": 3
   },
   "file_extension": ".py",
   "mimetype": "text/x-python",
   "name": "python",
   "nbconvert_exporter": "python",
   "pygments_lexer": "ipython3",
   "version": "3.9.12"
  }
 },
 "nbformat": 4,
 "nbformat_minor": 5
}
