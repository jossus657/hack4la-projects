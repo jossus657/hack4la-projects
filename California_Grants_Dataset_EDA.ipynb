{
 "cells": [
  {
   "cell_type": "markdown",
   "id": "8fd9a59a-0793-431c-afa0-9558ff71c4bc",
   "metadata": {},
   "source": [
    "# California Grants Dataset EDA"
   ]
  },
  {
   "cell_type": "markdown",
   "id": "33f2e8a7-ad1a-4e2a-adb7-ddaa88d34265",
   "metadata": {},
   "source": [
    "**EDA Using Python**\n",
    "- understand data\n",
    "    - many columns are not very useful\n",
    "    - some that may be useful are self reported, having no consistency in formatting between rows (award period, estimated amounts.)\n",
    "- clean data\n",
    "- analyze variables"
   ]
  },
  {
   "cell_type": "code",
   "execution_count": null,
   "id": "399f4238-d107-45db-9876-070c911c04fb",
   "metadata": {},
   "outputs": [],
   "source": [
    "# import necessary packages\n",
    "import numpy as np\n",
    "import pandas as pd\n",
    "import seaborn as sns\n",
    "import matplotlib.pyplot as plt"
   ]
  },
  {
   "cell_type": "code",
   "execution_count": null,
   "id": "b75b6133-9e08-4b33-a7ec-c783920b1e78",
   "metadata": {},
   "outputs": [],
   "source": [
    "grants_raw = pd.read_csv(\"ca_grants.csv\")"
   ]
  },
  {
   "cell_type": "code",
   "execution_count": null,
   "id": "7655737a-a3fa-4396-a49a-20e7be495954",
   "metadata": {},
   "outputs": [],
   "source": [
    "grants_raw.head()"
   ]
  },
  {
   "cell_type": "code",
   "execution_count": null,
   "id": "06bacd77-c3d5-42b1-8cd0-664881f44653",
   "metadata": {},
   "outputs": [],
   "source": [
    "print(grants_raw.info()) "
   ]
  },
  {
   "cell_type": "code",
   "execution_count": null,
   "id": "bf406619-d8c2-46f2-8c02-8a5bc385fab1",
   "metadata": {},
   "outputs": [],
   "source": [
    "# Change ID of the grant to a categorical variable\n",
    "grants_raw['PortalID'] = grants_raw['PortalID'].astype('object')"
   ]
  },
  {
   "cell_type": "markdown",
   "id": "605739e0-20c4-408d-a866-19af231d97c6",
   "metadata": {},
   "source": [
    "Removal of unecessary columns\n",
    "- columns with excessive missing values\n",
    "- redundant information\n",
    "- information that cannot realistically be useful or analyzed"
   ]
  },
  {
   "cell_type": "code",
   "execution_count": null,
   "id": "eafc90a3-3d45-4764-80b3-bde01f67c479",
   "metadata": {},
   "outputs": [],
   "source": [
    "grants = grants_raw.drop(grants_raw.columns[[1,4,10,14,15,17,19,24,27,29,31,32,33,34,35]], axis = 1)\n",
    "grants.head()"
   ]
  },
  {
   "cell_type": "code",
   "execution_count": null,
   "id": "0302477d-7ab3-4550-907e-595c8068bec1",
   "metadata": {},
   "outputs": [],
   "source": [
    "# Columns we are left with\n",
    "print(grants.info()) "
   ]
  },
  {
   "cell_type": "code",
   "execution_count": null,
   "id": "a55a9fe7-3914-4c01-bb81-38cc4e684518",
   "metadata": {},
   "outputs": [],
   "source": [
    "grants.AgencyDept.value_counts()\n",
    "grants.AgencyDept.unique()"
   ]
  },
  {
   "cell_type": "code",
   "execution_count": null,
   "id": "6d9f48e5-6d9e-462a-a5f8-039850af0156",
   "metadata": {},
   "outputs": [],
   "source": [
    "\n",
    "grants.describe(include=[\"object\"]) #no duplicate rows"
   ]
  },
  {
   "cell_type": "markdown",
   "id": "99cd9c3f-528d-4bc3-90c1-e27643b78246",
   "metadata": {},
   "source": [
    "Converting the columns 'EstAwards', 'EstAmounts', and 'EstAvailFunds' into numeric variables. Unique values reveal that the entries for these two columns are formatted consistently.\n",
    "As many entries contain a range of values these columns were each split into 2, relecting their maximum and minimum values. Undeclared entries were replaces with a missing value (NaN)."
   ]
  },
  {
   "cell_type": "code",
   "execution_count": null,
   "id": "a93510c4-eb8b-4213-b73d-3a4a3eeb3c25",
   "metadata": {},
   "outputs": [],
   "source": [
    "grants['EstAwards'].unique()"
   ]
  },
  {
   "cell_type": "code",
   "execution_count": null,
   "id": "4d63713d-0ec5-40df-ad79-3382c22a1e28",
   "metadata": {},
   "outputs": [],
   "source": [
    "awards = grants['EstAwards']\n",
    "maxaward = []\n",
    "minaward = []\n",
    "for i in (range(len(awards))):\n",
    "    if awards[i][0] == 'E':\n",
    "        maxaward.append(int(''.join(filter(str.isdigit, awards[i]))))\n",
    "        minaward.append(int(''.join(filter(str.isdigit, awards[i]))))\n",
    "    elif awards[i][0] == 'B':\n",
    "        maxaward.append(int(''.join(filter(str.isdigit, awards[i].rpartition('a')[2]))))\n",
    "        minaward.append(int(''.join(filter(str.isdigit, awards[i].rpartition('a')[0]))))\n",
    "    else:\n",
    "        maxaward.append(float('nan'))\n",
    "        minaward.append(float('nan'))\n",
    "        \n",
    "        \n",
    "amounts = grants['EstAmounts']\n",
    "maxamnt = []\n",
    "minamnt = []\n",
    "for i in (range(len(amounts))):\n",
    "    if amounts[i][0] == 'E':\n",
    "        maxamnt.append(int(''.join(filter(str.isdigit, amounts[i]))))\n",
    "        minamnt.append(int(''.join(filter(str.isdigit, amounts[i]))))\n",
    "    elif amounts[i][0] == 'B':\n",
    "        maxamnt.append(int(''.join(filter(str.isdigit, amounts[i].rpartition('a')[2]))))\n",
    "        minamnt.append(int(''.join(filter(str.isdigit, amounts[i].rpartition('a')[0]))))\n",
    "    else:\n",
    "        maxamnt.append(float('nan'))\n",
    "        minamnt.append(float('nan'))"
   ]
  },
  {
   "cell_type": "code",
   "execution_count": null,
   "id": "79e8f2c0-2e4a-4ba6-814f-4926560561dd",
   "metadata": {},
   "outputs": [],
   "source": [
    "grants['MaxAwards'] = maxaward\n",
    "grants['MinAwards'] = minaward\n",
    "grants = grants.drop('EstAwards', axis = 1)\n",
    "\n",
    "grants['MaxAmounts'] = maxamnt\n",
    "grants['MinAmounts'] = minamnt\n",
    "grants = grants.drop('EstAmounts', axis = 1)"
   ]
  },
  {
   "cell_type": "code",
   "execution_count": null,
   "id": "e5cc53f8-38e9-45c1-875e-93132c8f36c6",
   "metadata": {},
   "outputs": [],
   "source": [
    "availfunds = []\n",
    "for i in (range(len(grants['EstAvailFunds']))):\n",
    "    if type(grants['EstAvailFunds'][i]) != str:\n",
    "        availfunds.append(float('nan'))\n",
    "    else:\n",
    "        availfunds.append(int(''.join(filter(str.isdigit, grants['EstAvailFunds'][i]))))"
   ]
  },
  {
   "cell_type": "code",
   "execution_count": null,
   "id": "c3e87cb3-0ea3-4943-8fba-0465466dd19a",
   "metadata": {},
   "outputs": [],
   "source": [
    "grants['EstAvailFunds'] = availfunds  \n",
    "grants.head()"
   ]
  },
  {
   "cell_type": "code",
   "execution_count": null,
   "id": "73f66289-8c5f-4093-898d-94cad59cb7d9",
   "metadata": {},
   "outputs": [],
   "source": [
    "print(grants.info()) # Our new columns are left with mostly missing values as a majority of entries were undeclared"
   ]
  },
  {
   "cell_type": "code",
   "execution_count": null,
   "id": "d6a47f2d-2d67-46fe-a488-c4818754640c",
   "metadata": {},
   "outputs": [],
   "source": [
    "grants.describe(include=[\"object\"])"
   ]
  },
  {
   "cell_type": "code",
   "execution_count": null,
   "id": "fe5971be-d79f-46cd-908a-a555dac6ee22",
   "metadata": {},
   "outputs": [],
   "source": [
    "grants.describe()"
   ]
  },
  {
   "cell_type": "markdown",
   "id": "2bdd29f9-478a-41cb-af1c-d5af45be866b",
   "metadata": {},
   "source": [
    "**Exploring the Numeric Variables**"
   ]
  },
  {
   "cell_type": "code",
   "execution_count": null,
   "id": "9805c5d6-802f-477b-bdd8-7c5732788e40",
   "metadata": {},
   "outputs": [],
   "source": [
    "sns.catplot(x = 'MaxAwards', kind = 'box', data = grants)\n",
    "grants2 = grants[grants[\"MaxAwards\"] < 50000] # remove the excessively large outliars"
   ]
  },
  {
   "cell_type": "code",
   "execution_count": null,
   "id": "b2cead31-c5f6-4bc5-a942-94cf4bed154e",
   "metadata": {},
   "outputs": [],
   "source": [
    "sns.catplot(x = 'MaxAwards', kind = 'box', data = grants2) # still many outliars to potentially remove"
   ]
  },
  {
   "cell_type": "code",
   "execution_count": null,
   "id": "1b83aa17-1446-41c8-8c69-898ef89100e7",
   "metadata": {},
   "outputs": [],
   "source": [
    "grants3 = grants[grants[\"MaxAwards\"] < 200] # further subset our data\n",
    "sns.catplot(x = 'MaxAwards', kind = 'box', data = grants3)"
   ]
  },
  {
   "cell_type": "code",
   "execution_count": null,
   "id": "d18c1df3-4cce-4129-9c15-55e2115e0f0b",
   "metadata": {},
   "outputs": [],
   "source": [
    "# Potential relationship: Funding Source and Maximum Awards?\n",
    "sns.boxplot(x = 'FundingSource', y = 'EstAvailFunds', data = grants2) #bulk of outliers are coming from state grants"
   ]
  },
  {
   "cell_type": "code",
   "execution_count": null,
   "id": "48921588-ce88-481b-9a31-e8770aeb7945",
   "metadata": {},
   "outputs": [],
   "source": [
    "sns.countplot(x = 'FundingSource', data = grants) #to be expected as we are dealing with CA"
   ]
  },
  {
   "cell_type": "code",
   "execution_count": null,
   "id": "8c2ba2a6-258e-4304-ba82-7de6ee79e6ec",
   "metadata": {},
   "outputs": [],
   "source": [
    "# Another potentially interesting variable to consider: Funding Method\n",
    "fig, ax = plt.subplots()\n",
    "fig.set_size_inches(9,7)\n",
    "sns.countplot(x = 'FundingMethod', data = grants, ax = ax)"
   ]
  },
  {
   "cell_type": "code",
   "execution_count": null,
   "id": "9deeb470-7ac3-4f69-b7b3-3182e31e63ab",
   "metadata": {},
   "outputs": [],
   "source": [
    "# Looking further into funding method\n",
    "grants4 = grants3.dropna(axis=0, how='any', thresh=None, subset=None, inplace=False) # removing missing values\n",
    "sns.pairplot(data = grants4.drop('PortalID', axis = 1), hue = 'FundingMethod')"
   ]
  },
  {
   "cell_type": "code",
   "execution_count": null,
   "id": "cf47907f-e124-4ec6-a33a-d467530f2dfc",
   "metadata": {},
   "outputs": [],
   "source": [
    "# Most interesting scatter: Maximum Amount vs Estimated Available Funds?\n",
    "sns.relplot(x = 'MaxAmounts', y = 'EstAvailFunds', hue = 'FundingMethod', data = grants4)\n",
    "sns.displot(data = grants4, x = 'MaxAmounts', y = 'EstAvailFunds')"
   ]
  },
  {
   "cell_type": "markdown",
   "id": "4bb5b214-dcc1-4334-b7e7-6da9d1191902",
   "metadata": {},
   "source": [
    "Next Steps\n",
    "- apply transformation\n",
    "- linear model/analysis\n",
    "- potential multivariate analysis as well?\n",
    "- exploring the categories (split them up?)\n",
    "- which agencies? whats useful?\n",
    "- distribution of which agencies that are reporting stuff\n",
    "- contextualize the data (are these values legit)\n",
    "- are they even available?\n"
   ]
  },
  {
   "cell_type": "markdown",
   "id": "bb310834-50a3-4601-8a24-2561cf391040",
   "metadata": {},
   "source": [
    "# California Grants: Further Analysis"
   ]
  },
  {
   "cell_type": "code",
   "execution_count": null,
   "id": "779bce2a-4373-460c-af96-10b5d7ee9a7f",
   "metadata": {},
   "outputs": [],
   "source": [
    "grants.info()\n",
    "grants.ApplicationDeadline.value_counts().head()"
   ]
  },
  {
   "cell_type": "code",
   "execution_count": null,
   "id": "8733a622-29d2-4ca8-978e-8ea38a2bbd49",
   "metadata": {},
   "outputs": [],
   "source": [
    "deadline = grants.ApplicationDeadline\n",
    "ongoing = []\n",
    "for i in deadline:\n",
    "    if type(i) == float:\n",
    "        ongoing.append(0)\n",
    "    elif i[0] == 'O':\n",
    "        ongoing.append(1)\n",
    "    elif i[0] == '2':\n",
    "        temp = pd.to_datetime(i, format=\"%Y-%m-%d %H:%M:%S\")\n",
    "        today = pd.datetime.now()\n",
    "        if temp < today:\n",
    "            ongoing.append(0)\n",
    "        else:\n",
    "            ongoing.append(1)\n",
    "grants['IsOngoing'] = ongoing"
   ]
  },
  {
   "cell_type": "code",
   "execution_count": null,
   "id": "c6baca1c-aa8c-417f-aef9-043508d315b9",
   "metadata": {},
   "outputs": [],
   "source": [
    "grants.AgencyDept.unique()"
   ]
  },
  {
   "cell_type": "code",
   "execution_count": null,
   "id": "bd9f769c-75ca-402f-8aeb-5db5b27fab22",
   "metadata": {},
   "outputs": [],
   "source": [
    "fig, ax = plt.subplots()\n",
    "fig.set_size_inches(20,7)\n",
    "plt.xticks(rotation = 90)\n",
    "sns.countplot(x = 'AgencyDept', data = grants, ax = ax, order = grants.AgencyDept.value_counts().index)"
   ]
  },
  {
   "cell_type": "code",
   "execution_count": null,
   "id": "0f45737d-6f59-470a-a080-b64e8f40de84",
   "metadata": {},
   "outputs": [],
   "source": [
    "grants_ongoing = grants[grants['IsOngoing'] == 1]\n",
    "fig, ax = plt.subplots()\n",
    "fig.set_size_inches(20,7)\n",
    "plt.xticks(rotation = 90)\n",
    "sns.countplot(x = 'AgencyDept', data = grants_ongoing, ax = ax, order = grants_ongoing.AgencyDept.value_counts().index)"
   ]
  },
  {
   "cell_type": "code",
   "execution_count": null,
   "id": "bfcda7ee-1445-4368-ae60-f8e4b9da102a",
   "metadata": {},
   "outputs": [],
   "source": [
    "grants.AgencyDept.unique() == grants_ongoing.AgencyDept.unique()"
   ]
  },
  {
   "cell_type": "code",
   "execution_count": null,
   "id": "4ebff530-3ab3-45af-a23e-6ebce21c2d94",
   "metadata": {},
   "outputs": [],
   "source": [
    "# Initialize the matplotlib figure\n",
    "f, ax = plt.subplots(figsize=(20,8))\n",
    "\n",
    "# Plot \n",
    "sns.set_color_codes(\"pastel\")\n",
    "sns.countplot(y = \"AgencyDept\", data = grants, label= \"Total Grants by Agency\", color=\"b\", orient = 'h')\n",
    "\n",
    "# Differentiate between ongoing grants\n",
    "sns.set_color_codes(\"muted\")\n",
    "sns.countplot(y = \"AgencyDept\", data = grants_ongoing, label= \"Total Ongoing Grants by Agency\", color=\"b\", orient = 'h')\n",
    "\n",
    "# Add a legend and informative axis label\n",
    "ax.legend(ncol=2, loc=\"lower right\", frameon=True)\n",
    "ax.set(ylabel=\"\", xlabel=\"Total Grants\")\n",
    "sns.despine(left=True, bottom=True)\n",
    "\n",
    "# Agencies with no ongoing grants are omitted"
   ]
  }
 ],
 "metadata": {
  "kernelspec": {
   "display_name": "Python 3 (ipykernel)",
   "language": "python",
   "name": "python3"
  },
  "language_info": {
   "codemirror_mode": {
    "name": "ipython",
    "version": 3
   },
   "file_extension": ".py",
   "mimetype": "text/x-python",
   "name": "python",
   "nbconvert_exporter": "python",
   "pygments_lexer": "ipython3",
   "version": "3.9.12"
  }
 },
 "nbformat": 4,
 "nbformat_minor": 5
}
